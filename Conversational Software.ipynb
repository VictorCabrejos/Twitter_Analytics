{
 "cells": [
  {
   "cell_type": "markdown",
   "metadata": {},
   "source": [
    "# Introduction to ChatBots"
   ]
  },
  {
   "cell_type": "markdown",
   "metadata": {},
   "source": [
    "## EchoBot "
   ]
  },
  {
   "cell_type": "markdown",
   "metadata": {},
   "source": [
    "The first bot we are building is called EchoBot, because it simply echoes back to you whatever you say to it."
   ]
  },
  {
   "cell_type": "code",
   "execution_count": 4,
   "metadata": {},
   "outputs": [],
   "source": [
    "bot_template = \"BOT : {0}\"\n",
    "user_template = \"USER : {0}\"\n",
    "\n",
    "# Define a function that responds to a user's message: respond\n",
    "def respond_echo(message):\n",
    "    # Concatenate the user's message to the end of a standard bot respone\n",
    "    bot_message = \"I can hear you! You said: \" + message\n",
    "    \n",
    "    # Return the result\n",
    "    return bot_message\n"
   ]
  },
  {
   "cell_type": "code",
   "execution_count": 34,
   "metadata": {},
   "outputs": [
    {
     "name": "stdout",
     "output_type": "stream",
     "text": [
      "USER : hello\n",
      "BOT : default message\n"
     ]
    }
   ],
   "source": [
    "# Define a function that sends a message to the bot: send_message\n",
    "\n",
    "def send_message(message):\n",
    "    # Print user_template including the user_message\n",
    "    print(user_template.format(message))\n",
    "    \n",
    "    # Get the bot's reponse to the message\n",
    "    response = respond(message)\n",
    "    \n",
    "    # Print the bot template including the bot's response\n",
    "    print(bot_template.format(response))\n",
    "    \n",
    "send_message(\"hello\")"
   ]
  },
  {
   "cell_type": "markdown",
   "metadata": {},
   "source": [
    "## Smalltalk - Creating Personality"
   ]
  },
  {
   "cell_type": "markdown",
   "metadata": {},
   "source": [
    "Now we create a bot which can answer simple questions such as \"What's your name?\" and \"What's today's weather?\"by using a dictionary with these questions as keys, and the correct responses as values.\n",
    "This means the bot will only respond correctly if the message matches exactly (which is a big limitation).\n",
    "\n",
    "Since it can get a little boring hearing the same answers, so we'll add some variation using the `random` module and the function `choice` which randomly selects an element from a list"
   ]
  },
  {
   "cell_type": "code",
   "execution_count": 14,
   "metadata": {},
   "outputs": [],
   "source": [
    "import random\n",
    "\n",
    "# Define variables\n",
    "\n",
    "name = \"Greg\"\n",
    "weather = \"cloudy\"\n",
    "\n",
    "# Define a dictionary with predefined responses\n",
    "\n",
    "responses = { \n",
    "              \"what's your name?\" : [\n",
    "                                      \"my name is {0}\".format(name),\n",
    "                                      \"they call me {0}\".format(name),\n",
    "                                      \"I go by {0}\".format(name)\n",
    "                                    ],\n",
    "    \n",
    "              \"what's today's weather?\" :  [\n",
    "                                           \"the weather is {0}\".format(weather),\n",
    "                                           \"It's {0}\".format(weather)\n",
    "                                           ],\n",
    "    \n",
    "              \"default\" : [\"default message\"]\n",
    "            }\n",
    "\n",
    "# Return the matching response if there is one, default otherwise\n",
    "# Use random.choice() to choose a matching response\n",
    "\n",
    "def respond(message):\n",
    "    # Check if the message is in the responses\n",
    "    if message in responses:\n",
    "        # Return the matching message\n",
    "        bot_message = random.choice(responses[message])\n",
    "    else:\n",
    "        # Return the 'default' message\n",
    "        bot_message = random.choice(responses['default'])\n",
    "    return bot_message\n"
   ]
  },
  {
   "cell_type": "code",
   "execution_count": 33,
   "metadata": {},
   "outputs": [
    {
     "name": "stdout",
     "output_type": "stream",
     "text": [
      "USER : what's today's weather?\n",
      "BOT : It's cloudy\n"
     ]
    }
   ],
   "source": [
    "send_message(\"what's today's weather?\")"
   ]
  },
  {
   "cell_type": "markdown",
   "metadata": {},
   "source": [
    "## ELIZA"
   ]
  },
  {
   "cell_type": "markdown",
   "metadata": {},
   "source": [
    "We create the very first hint of ELIZA's famous personality. Asking questions is a great way to create an engaging conversation, by responding to statements with a question and responding to questions with answers.\n",
    "\n",
    "We will define a function that uses the string's method `.endswith()` to check if a `message` ends with a question mark."
   ]
  },
  {
   "cell_type": "code",
   "execution_count": 37,
   "metadata": {},
   "outputs": [],
   "source": [
    "# Define a dictionary with predefined responses\n",
    "\n",
    "responses = { \n",
    "              \"question\" : [\n",
    "                             \"I don't know :(\",\n",
    "                             \"you tell me!\"\n",
    "                            ],\n",
    "    \n",
    "              \"statement\" :  [\n",
    "                               \"you tell me!\",\n",
    "                               \"why do you think that?\",\n",
    "                               \"why do you think that?\",\n",
    "                               \"I find that extremely interesting\",\n",
    "                               \"can you back that up?\",\n",
    "                               \"oh wow!\",\n",
    "                               \":)\"\n",
    "                             ]\n",
    "            }\n",
    "\n",
    "def respond(message):\n",
    "    # Check for a question mark\n",
    "    if message.endswith('?'):\n",
    "        # Return a random question\n",
    "        return random.choice(responses['question'])\n",
    "    # Return a random statement\n",
    "    return random.choice(responses['statement'])\n",
    "\n"
   ]
  },
  {
   "cell_type": "code",
   "execution_count": 39,
   "metadata": {},
   "outputs": [
    {
     "name": "stdout",
     "output_type": "stream",
     "text": [
      "USER : what's today's weather?\n",
      "BOT : I don't know :(\n",
      "USER : what's today's weather?\n",
      "BOT : I don't know :(\n",
      "USER : I love building chatbots\n",
      "BOT : I find that extremely interesting\n",
      "USER : I love building chatbots\n",
      "BOT : :)\n"
     ]
    }
   ],
   "source": [
    "# Send messages ending in a question mark\n",
    "send_message(\"what's today's weather?\")\n",
    "send_message(\"what's today's weather?\")\n",
    "\n",
    "# Send messages which don't end with a question mark\n",
    "send_message(\"I love building chatbots\")\n",
    "send_message(\"I love building chatbots\")\n",
    "        "
   ]
  },
  {
   "cell_type": "markdown",
   "metadata": {},
   "source": [
    "## Text Processing with Regex"
   ]
  },
  {
   "cell_type": "markdown",
   "metadata": {},
   "source": [
    "We will use Regular Expressions (RegEx) for: \n",
    "* matching messages against known patterns\n",
    "* extracting key phrases\n",
    "* transforming sentences grammatically"
   ]
  },
  {
   "cell_type": "markdown",
   "metadata": {},
   "source": [
    "The really clever thing about ELIZA is the way the program appears to understand what you told it, by occasionally including phrases uttered by the user in its responses. To make responses grammatically coherent, you'll want to transform the extracted phrases from first to second person and vice versa. "
   ]
  },
  {
   "cell_type": "code",
   "execution_count": 40,
   "metadata": {},
   "outputs": [
    {
     "name": "stdout",
     "output_type": "stream",
     "text": [
      "('Did you think I would forget {0}', 'your last birthday?')\n"
     ]
    }
   ],
   "source": [
    "import re\n",
    "\n",
    "# Define a dictionary with predefined responses\n",
    "\n",
    "rules = {\n",
    "              'I want (.*)': [\n",
    "                               'What would it mean if you got {0}',\n",
    "                               'Why do you want {0}',\n",
    "                               \"What's stopping you from getting {0}\"\n",
    "                             ],\n",
    " \n",
    "               'do you remember (.*)': [\n",
    "                                       'Did you think I would forget {0}',\n",
    "                                       \"Why haven't you been able to forget {0}\",\n",
    "                                       'What about {0}',\n",
    "                                       'Yes .. and?'\n",
    "                                       ],\n",
    "    \n",
    "               'do you think (.*)': [\n",
    "                                     'if {0}? Absolutely.', \n",
    "                                     'No chance'\n",
    "                                    ],\n",
    "    \n",
    "                'if (.*)': [\n",
    "                             \"Do you really think it's likely that {0}\",\n",
    "                             'Do you wish that {0}',\n",
    "                             'What do you think about {0}',\n",
    "                             'Really--if {0}'\n",
    "                           ]\n",
    "         }\n",
    "\n",
    "# Define match_rule()\n",
    "def match_rule(rules, message):\n",
    "    response, phrase = 'default', None\n",
    "    \n",
    "    # Iterate over the rules dictionary\n",
    "    for pattern, responses in rules.items():\n",
    "        # Create a match object\n",
    "        match = re.search(pattern, message)\n",
    "        if match is not None:\n",
    "            # Choose a random response\n",
    "            response = random.choice(responses)\n",
    "            if '{0}' in response:\n",
    "                phrase = match.group(1)\n",
    "                \n",
    "    # Return the response and phrase\n",
    "    return response, phrase\n",
    "    \n",
    "# Test match_rule\n",
    "print(match_rule(rules, \"do you remember your last birthday?\"))\n",
    "    \n",
    "    \n",
    "    \n",
    "    "
   ]
  },
  {
   "cell_type": "code",
   "execution_count": null,
   "metadata": {},
   "outputs": [],
   "source": []
  }
 ],
 "metadata": {
  "kernelspec": {
   "display_name": "Python 3",
   "language": "python",
   "name": "python3"
  },
  "language_info": {
   "codemirror_mode": {
    "name": "ipython",
    "version": 3
   },
   "file_extension": ".py",
   "mimetype": "text/x-python",
   "name": "python",
   "nbconvert_exporter": "python",
   "pygments_lexer": "ipython3",
   "version": "3.6.6"
  }
 },
 "nbformat": 4,
 "nbformat_minor": 2
}
