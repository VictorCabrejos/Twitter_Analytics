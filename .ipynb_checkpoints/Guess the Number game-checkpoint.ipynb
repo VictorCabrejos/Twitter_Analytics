{
 "cells": [
  {
   "cell_type": "code",
   "execution_count": 13,
   "metadata": {},
   "outputs": [
    {
     "name": "stdout",
     "output_type": "stream",
     "text": [
      "Cual es su nombre? \n",
      "victor\n",
      "Bueno, victor estoy pensando en un numero del 1 al 20\n",
      "En que numero estoy pensando? Adivine (tiene hasta 6 intentos)\n",
      "4\n",
      "Buen trabajo victor has adivinado el numero correctamente en 1 veces.\n"
     ]
    }
   ],
   "source": [
    "import random\n",
    "\n",
    "print(\"Cual es su nombre? \")\n",
    "nombre = input()\n",
    "\n",
    "numeroSecreto = random.randint(1,20)\n",
    "\n",
    "print(\"Bueno, \" + nombre + \" estoy pensando en un numero del 1 al 20\")\n",
    "\n",
    "# Preguntar al jugador que trate de adivinar 6 veces\n",
    "\n",
    "print(\"En que numero estoy pensando? Adivine (tiene hasta 6 intentos)\")\n",
    "\n",
    "\n",
    "\n",
    "def adivinar():\n",
    "    for i in range(1,7):\n",
    "\n",
    "        intento = int(input())\n",
    "\n",
    "        if intento < numeroSecreto:\n",
    "            print(\"Usted ha adivinado demasiado bajo. Intente de nuevo\")\n",
    "        elif intento > numeroSecreto:\n",
    "            print(\"Usted ha adivinado demasiado alto. Intente de nuevo\")\n",
    "        else:\n",
    "            break\n",
    "    if intento == numeroSecreto:\n",
    "        print(\"Buen trabajo \" + nombre + \" has adivinado el numero correctamente \" \\\n",
    "        \"en \" + str(i) + \" intentos.\")\n",
    "    else:\n",
    "        print(\"Lo siento \" + nombre + \" pero no has podido adivinar correctamente.\")\n",
    "\n",
    "    \n",
    "try:\n",
    "    adivinar()\n",
    "    \n",
    "    \n",
    "except ValueError:\n",
    "    print(\"Solo puede escribir numeros. Intente de nuevo\")\n",
    "    adivinar()\n",
    "    \n",
    "        \n",
    "\n",
    "\n"
   ]
  },
  {
   "cell_type": "code",
   "execution_count": null,
   "metadata": {},
   "outputs": [],
   "source": []
  }
 ],
 "metadata": {
  "kernelspec": {
   "display_name": "Python 3",
   "language": "python",
   "name": "python3"
  },
  "language_info": {
   "codemirror_mode": {
    "name": "ipython",
    "version": 3
   },
   "file_extension": ".py",
   "mimetype": "text/x-python",
   "name": "python",
   "nbconvert_exporter": "python",
   "pygments_lexer": "ipython3",
   "version": "3.6.6"
  }
 },
 "nbformat": 4,
 "nbformat_minor": 2
}
