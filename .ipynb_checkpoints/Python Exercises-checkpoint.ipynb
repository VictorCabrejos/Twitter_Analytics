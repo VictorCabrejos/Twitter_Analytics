{
 "cells": [
  {
   "cell_type": "code",
   "execution_count": 1,
   "metadata": {},
   "outputs": [],
   "source": [
    "import re"
   ]
  },
  {
   "cell_type": "code",
   "execution_count": 20,
   "metadata": {
    "scrolled": true
   },
   "outputs": [
    {
     "name": "stdout",
     "output_type": "stream",
     "text": [
      "Please enter a sentence:\n",
      "hello world\n",
      "Number of letters:  10\n"
     ]
    }
   ],
   "source": [
    "# Remove Special characters, spaces and numbers from input sentence\n",
    "# then count number of letters of cleaned sentence\n",
    "\n",
    "print(\"Please enter a sentence:\")\n",
    "\n",
    "sentence = input()\n",
    "\n",
    "clean = re.sub('[^A-Za-z]+', '', sentence)\n",
    "\n",
    "print(\"Number of letters: \", len(clean))\n"
   ]
  },
  {
   "cell_type": "code",
   "execution_count": 19,
   "metadata": {},
   "outputs": [
    {
     "name": "stdout",
     "output_type": "stream",
     "text": [
      "how many cats do you have?:\n",
      "six\n",
      "You did not enter a number\n"
     ]
    }
   ],
   "source": [
    "print('how many cats do you have?:')\n",
    "numCats = input()\n",
    "\n",
    "try:    \n",
    "    if int(numCats) >= 4:\n",
    "        print(\"that's a lot of cats!\")\n",
    "        \n",
    "    elif int(numCats) < 0:\n",
    "        print('the number must be a zero or positive integer')\n",
    "        \n",
    "    else:\n",
    "        print('That is not that many cats.')\n",
    "\n",
    "except ValueError:\n",
    "    print('You did not enter a number')\n",
    "        \n",
    "        "
   ]
  },
  {
   "cell_type": "code",
   "execution_count": 24,
   "metadata": {},
   "outputs": [
    {
     "name": "stdout",
     "output_type": "stream",
     "text": [
      "index 0 in supplies is: pen\n",
      "index 1 in supplies is: razon\n",
      "index 2 in supplies is: ruler\n"
     ]
    }
   ],
   "source": [
    "supplies = ['pen', 'razon', 'ruler']\n",
    "\n",
    "for i in range(0,len(supplies)):\n",
    "    print('index ' +  str(i) + ' in supplies is: ' + str(supplies[i]) )"
   ]
  },
  {
   "cell_type": "code",
   "execution_count": 26,
   "metadata": {},
   "outputs": [
    {
     "name": "stdout",
     "output_type": "stream",
     "text": [
      "fat\n",
      "orange\n",
      "loud\n"
     ]
    }
   ],
   "source": [
    "# multiple assignment\n",
    "\n",
    "cat = [\"fat\", 'orange', 'loud']\n",
    "size, color, disposition = cat\n",
    "\n",
    "print(size)\n",
    "print(color)\n",
    "print(disposition)"
   ]
  },
  {
   "cell_type": "code",
   "execution_count": 30,
   "metadata": {},
   "outputs": [
    {
     "name": "stdout",
     "output_type": "stream",
     "text": [
      "['A', 'Z', 'a', 'z']\n",
      "['A', 'a', 'Z', 'z']\n"
     ]
    }
   ],
   "source": [
    "# Sorting bypassing the ASCII-betical order\n",
    "# using key=str.lower\n",
    "\n",
    "spam = ['a', 'z', 'A', 'Z']\n",
    "spam.sort()\n",
    "print(spam)\n",
    "\n",
    "spam.sort(key=str.lower) #correct sorting\n",
    "print(spam)"
   ]
  },
  {
   "cell_type": "code",
   "execution_count": 33,
   "metadata": {},
   "outputs": [
    {
     "data": {
      "text/plain": [
       "'Zophie the cat'"
      ]
     },
     "execution_count": 33,
     "metadata": {},
     "output_type": "execute_result"
    }
   ],
   "source": [
    "# strings are immutable but you\n",
    "# can use slicing to create new strings\n",
    "\n",
    "name = 'Zophie a cat'\n",
    "newName = name[0:7] + 'the' + name[-4:]\n",
    "newName"
   ]
  },
  {
   "cell_type": "code",
   "execution_count": 37,
   "metadata": {},
   "outputs": [
    {
     "name": "stdout",
     "output_type": "stream",
     "text": [
      "Enter the name of cat # 1 (Or enter nothing to stop.):\n",
      "garfield\n",
      "Enter the name of cat # 2 (Or enter nothing to stop.):\n",
      "tom\n",
      "Enter the name of cat # 3 (Or enter nothing to stop.):\n",
      "sylvester\n",
      "Enter the name of cat # 4 (Or enter nothing to stop.):\n",
      "gatito\n",
      "Enter the name of cat # 5 (Or enter nothing to stop.):\n",
      "\n",
      "The cat names are: \n",
      " garfield\n",
      " tom\n",
      " sylvester\n",
      " gatito\n"
     ]
    }
   ],
   "source": [
    "catNames = []\n",
    "\n",
    "while True:\n",
    "    print('Enter the name of cat # ' + str(len(catNames) + 1) + \n",
    "          ' (Or enter nothing to stop.):')\n",
    "    \n",
    "    name = input()\n",
    "    \n",
    "    if name == '':\n",
    "        break\n",
    "    \n",
    "    catNames = catNames + [name] #list concatenation\n",
    "    \n",
    "print('The cat names are: ')\n",
    "\n",
    "for name in catNames:\n",
    "    print(' ' + name)\n",
    "    \n"
   ]
  },
  {
   "cell_type": "code",
   "execution_count": 45,
   "metadata": {},
   "outputs": [
    {
     "name": "stdout",
     "output_type": "stream",
     "text": [
      "ho\n"
     ]
    }
   ],
   "source": [
    "def eggs(param):\n",
    "    \n",
    "    return param[:2]\n",
    "\n",
    "spam  = 'hola'\n",
    "hello = eggs(spam)\n",
    "\n",
    "print(hello)"
   ]
  },
  {
   "cell_type": "code",
   "execution_count": null,
   "metadata": {},
   "outputs": [],
   "source": []
  }
 ],
 "metadata": {
  "kernelspec": {
   "display_name": "Python 3",
   "language": "python",
   "name": "python3"
  },
  "language_info": {
   "codemirror_mode": {
    "name": "ipython",
    "version": 3
   },
   "file_extension": ".py",
   "mimetype": "text/x-python",
   "name": "python",
   "nbconvert_exporter": "python",
   "pygments_lexer": "ipython3",
   "version": "3.6.6"
  }
 },
 "nbformat": 4,
 "nbformat_minor": 2
}
